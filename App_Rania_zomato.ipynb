{
 "cells": [
  {
   "cell_type": "code",
   "execution_count": 1,
   "id": "ba935388",
   "metadata": {},
   "outputs": [],
   "source": [
    "from fastapi import FastAPI\n",
    "from pydantic import BaseModel\n",
    "import joblib\n",
    "import numpy as np \n"
   ]
  },
  {
   "cell_type": "code",
   "execution_count": 2,
   "id": "07de408c",
   "metadata": {},
   "outputs": [],
   "source": [
    "app = FastAPI()\n",
    "scaler = joblib.load('scaler.h5')\n",
    "model = joblib.load('model_rf.h5')"
   ]
  },
  {
   "cell_type": "code",
   "execution_count": 3,
   "id": "36f87b8a",
   "metadata": {},
   "outputs": [],
   "source": [
    "class InputData(BaseModel) :\n",
    "    book_table : int\n",
    "    Cost : int\n",
    "    Votes:int\n",
    "    kind_kitchen : int\n",
    "    Service_Type : int\n",
    "    "
   ]
  },
  {
   "cell_type": "code",
   "execution_count": 4,
   "id": "58d18303",
   "metadata": {},
   "outputs": [],
   "source": [
    "@app.post('/predict') \n",
    "def predict(input_data : InputData) :\n",
    "    \n",
    "    book_table = input_data.book_table\n",
    "    Cost = input_data.Cost\n",
    "    Votes = input_data.Votes\n",
    "    kind_kitchen = input_data.kind_kitchen\n",
    "    Service_Type = input_data.Service_Type\n",
    "    \n",
    "    featurs = np.array([[book_table, Cost , Votes,kind_kitchen, Service_Type ]])\n",
    "   \n",
    "    prediction = model.predict(np.array(featurs))\n",
    "    \n",
    "    return {'prediction' : int(prediction)}  \n",
    "   "
   ]
  },
  {
   "cell_type": "code",
   "execution_count": null,
   "id": "f054208b",
   "metadata": {},
   "outputs": [
    {
     "name": "stderr",
     "output_type": "stream",
     "text": [
      "INFO:     Started server process [4904]\n",
      "INFO:     Waiting for application startup.\n",
      "INFO:     Application startup complete.\n",
      "INFO:     Uvicorn running on http://127.0.0.1:8000 (Press CTRL+C to quit)\n"
     ]
    },
    {
     "name": "stdout",
     "output_type": "stream",
     "text": [
      "INFO:     127.0.0.1:52436 - \"GET / HTTP/1.1\" 404 Not Found\n",
      "INFO:     127.0.0.1:52436 - \"GET /favicon.ico HTTP/1.1\" 404 Not Found\n",
      "INFO:     127.0.0.1:52436 - \"GET /docs HTTP/1.1\" 200 OK\n",
      "INFO:     127.0.0.1:52436 - \"GET /openapi.json HTTP/1.1\" 200 OK\n",
      "INFO:     127.0.0.1:52454 - \"POST /predict HTTP/1.1\" 200 OK\n",
      "INFO:     127.0.0.1:52461 - \"POST /predict HTTP/1.1\" 200 OK\n"
     ]
    }
   ],
   "source": [
    "import asyncio\n",
    "import uvicorn\n",
    "\n",
    "if __name__ == \"__main__\":\n",
    "    config = uvicorn.Config(app)\n",
    "    server = uvicorn.Server(config)\n",
    "    await server.serve()"
   ]
  },
  {
   "cell_type": "code",
   "execution_count": null,
   "id": "c56c8280",
   "metadata": {},
   "outputs": [],
   "source": []
  },
  {
   "cell_type": "code",
   "execution_count": null,
   "id": "4e84cd2e",
   "metadata": {},
   "outputs": [],
   "source": []
  },
  {
   "cell_type": "code",
   "execution_count": null,
   "id": "b1bee5ad",
   "metadata": {},
   "outputs": [],
   "source": []
  },
  {
   "cell_type": "code",
   "execution_count": null,
   "id": "5ba22695",
   "metadata": {},
   "outputs": [],
   "source": []
  },
  {
   "cell_type": "code",
   "execution_count": null,
   "id": "b146610a",
   "metadata": {},
   "outputs": [],
   "source": []
  },
  {
   "cell_type": "code",
   "execution_count": null,
   "id": "acced481",
   "metadata": {},
   "outputs": [],
   "source": []
  }
 ],
 "metadata": {
  "kernelspec": {
   "display_name": "Python 3 (ipykernel)",
   "language": "python",
   "name": "python3"
  },
  "language_info": {
   "codemirror_mode": {
    "name": "ipython",
    "version": 3
   },
   "file_extension": ".py",
   "mimetype": "text/x-python",
   "name": "python",
   "nbconvert_exporter": "python",
   "pygments_lexer": "ipython3",
   "version": "3.9.13"
  }
 },
 "nbformat": 4,
 "nbformat_minor": 5
}
